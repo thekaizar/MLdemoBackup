{
 "cells": [
  {
   "cell_type": "code",
   "execution_count": null,
   "metadata": {
    "collapsed": true
   },
   "outputs": [],
   "source": [
    "## Build following solution:\n",
    "# perturb over all feature combinations and pick best\n",
    "# which has best true training error"
   ]
  },
  {
   "cell_type": "code",
   "execution_count": 5,
   "metadata": {
    "collapsed": true
   },
   "outputs": [],
   "source": [
    "import numpy as np\n",
    "import pandas as pd"
   ]
  },
  {
   "cell_type": "code",
   "execution_count": 2,
   "metadata": {},
   "outputs": [
    {
     "name": "stdout",
     "output_type": "stream",
     "text": [
      "set(['tiger', 'eagle', 'lion', 'orca'])\n",
      "[0, 1, 2, 3]\n",
      "{0: 'tiger', 1: 'eagle', 2: 'lion', 3: 'orca'}\n",
      "[0, 3, 2, 1]\n"
     ]
    }
   ],
   "source": [
    "tmptest = ['tiger','orca','lion','eagle']\n",
    "tmpset = set(tmptest)\n",
    "print(tmpset)\n",
    "setList = []\n",
    "[setList.append(x) for x in tmpset]\n",
    "\n",
    "tmplen = len(tmpset)\n",
    "start=0\n",
    "replacementList = []\n",
    "for k in range(tmplen):\n",
    "    replacementList.append(start)\n",
    "    start+=1\n",
    "print(replacementList)\n",
    "lenoriginal = len(tmptest)\n",
    "\n",
    "newVals = dict(list(enumerate(tmpset)))\n",
    "print (newVals)\n",
    "#incase\n",
    "reverse_dict = {v:k for k,v in newVals.iteritems()}\n",
    "setLength = len(tmpset)\n",
    "#newLength = len(newVals)\n",
    "for m in range(lenoriginal):\n",
    "    #for k in range(setLength):\n",
    "    for newVal in setList:\n",
    "    #for key,value in newVals.items():\n",
    "        if newVal == tmptest[m]:\n",
    "            currentVal = reverse_dict[newVal]\n",
    "            tmptest[m] = currentVal\n",
    "\n",
    "print(tmptest)"
   ]
  },
  {
   "cell_type": "code",
   "execution_count": 3,
   "metadata": {},
   "outputs": [
    {
     "ename": "NameError",
     "evalue": "name 'vAllLoans' is not defined",
     "output_type": "error",
     "traceback": [
      "\u001b[0;31m---------------------------------------------------------------------------\u001b[0m",
      "\u001b[0;31mNameError\u001b[0m                                 Traceback (most recent call last)",
      "\u001b[0;32m<ipython-input-3-41269293c8ad>\u001b[0m in \u001b[0;36m<module>\u001b[0;34m()\u001b[0m\n\u001b[1;32m      1\u001b[0m \u001b[0;31m# find where the NaN's are\u001b[0m\u001b[0;34m\u001b[0m\u001b[0;34m\u001b[0m\u001b[0m\n\u001b[1;32m      2\u001b[0m \u001b[0;32mimport\u001b[0m \u001b[0mmath\u001b[0m\u001b[0;34m\u001b[0m\u001b[0m\n\u001b[0;32m----> 3\u001b[0;31m \u001b[0mallLength\u001b[0m \u001b[0;34m=\u001b[0m \u001b[0mlen\u001b[0m\u001b[0;34m(\u001b[0m\u001b[0mvAllLoans\u001b[0m\u001b[0;34m)\u001b[0m\u001b[0;34m\u001b[0m\u001b[0m\n\u001b[0m\u001b[1;32m      4\u001b[0m \u001b[0mallHoriz\u001b[0m \u001b[0;34m=\u001b[0m \u001b[0mlen\u001b[0m\u001b[0;34m(\u001b[0m\u001b[0mvAllLoans\u001b[0m\u001b[0;34m.\u001b[0m\u001b[0mcolumns\u001b[0m\u001b[0;34m)\u001b[0m\u001b[0;34m\u001b[0m\u001b[0m\n\u001b[1;32m      5\u001b[0m \u001b[0;32mfor\u001b[0m \u001b[0mk\u001b[0m \u001b[0;32min\u001b[0m \u001b[0mrange\u001b[0m\u001b[0;34m(\u001b[0m\u001b[0mallLength\u001b[0m\u001b[0;34m)\u001b[0m\u001b[0;34m:\u001b[0m\u001b[0;34m\u001b[0m\u001b[0m\n",
      "\u001b[0;31mNameError\u001b[0m: name 'vAllLoans' is not defined"
     ]
    }
   ],
   "source": [
    "# find where the NaN's are \n",
    "import math\n",
    "allLength = len(vAllLoans)\n",
    "allHoriz = len(vAllLoans.columns)\n",
    "for k in range(allLength):\n",
    "    for m in range(allHoriz):\n",
    "        if math.isnan(vAllLoans.iloc[k][m]):\n",
    "            print ('column is: ',vAllLoans.loc[m])\n",
    "            print ('cell address is: ',k,m)\n",
    "            print ('cell is: ',vAllLoans.iloc[k][m])\n",
    "            break"
   ]
  },
  {
   "cell_type": "code",
   "execution_count": null,
   "metadata": {
    "collapsed": true
   },
   "outputs": [],
   "source": [
    "#remove nan columns\n",
    "safe_loans = vAllLoans['safe_loans']\n",
    "print (vAllLoans.shape)\n",
    "for col in vAllLoans.columns:\n",
    "    if vAllLoans[col].isnull().values.any():\n",
    "        del vAllLoans[col]\n",
    "print (vAllLoans.shape)\n",
    "vAllLoans.append(safe_loans)\n",
    "print (vAllLoans.shape)"
   ]
  },
  {
   "cell_type": "code",
   "execution_count": null,
   "metadata": {
    "collapsed": true
   },
   "outputs": [],
   "source": [
    "#tmp = '/Users/home/Desktop/lclubdata.csv'\n",
    "#allLoans.to_csv(path_or_buf=tmp)\n",
    "#allLoans = pd.read_csv(tmp, header=None)"
   ]
  },
  {
   "cell_type": "code",
   "execution_count": 17,
   "metadata": {
    "collapsed": true
   },
   "outputs": [],
   "source": [
    "tmpframe = pd.DataFrame([1,2,np.NaN,4,5,6])"
   ]
  },
  {
   "cell_type": "code",
   "execution_count": 18,
   "metadata": {},
   "outputs": [
    {
     "data": {
      "text/html": [
       "<div>\n",
       "<table border=\"1\" class=\"dataframe\">\n",
       "  <thead>\n",
       "    <tr style=\"text-align: right;\">\n",
       "      <th></th>\n",
       "      <th>0</th>\n",
       "    </tr>\n",
       "  </thead>\n",
       "  <tbody>\n",
       "    <tr>\n",
       "      <th>0</th>\n",
       "      <td>1.0</td>\n",
       "    </tr>\n",
       "    <tr>\n",
       "      <th>1</th>\n",
       "      <td>2.0</td>\n",
       "    </tr>\n",
       "    <tr>\n",
       "      <th>2</th>\n",
       "      <td>NaN</td>\n",
       "    </tr>\n",
       "    <tr>\n",
       "      <th>3</th>\n",
       "      <td>4.0</td>\n",
       "    </tr>\n",
       "    <tr>\n",
       "      <th>4</th>\n",
       "      <td>5.0</td>\n",
       "    </tr>\n",
       "    <tr>\n",
       "      <th>5</th>\n",
       "      <td>6.0</td>\n",
       "    </tr>\n",
       "  </tbody>\n",
       "</table>\n",
       "</div>"
      ],
      "text/plain": [
       "     0\n",
       "0  1.0\n",
       "1  2.0\n",
       "2  NaN\n",
       "3  4.0\n",
       "4  5.0\n",
       "5  6.0"
      ]
     },
     "execution_count": 18,
     "metadata": {},
     "output_type": "execute_result"
    }
   ],
   "source": [
    "tmpframe"
   ]
  },
  {
   "cell_type": "code",
   "execution_count": 19,
   "metadata": {},
   "outputs": [
    {
     "data": {
      "text/plain": [
       "True"
      ]
     },
     "execution_count": 19,
     "metadata": {},
     "output_type": "execute_result"
    }
   ],
   "source": [
    "tmpframe[0].isnull().values.any()"
   ]
  },
  {
   "cell_type": "code",
   "execution_count": null,
   "metadata": {
    "collapsed": true
   },
   "outputs": [],
   "source": [
    "def stringOrFloat(dframe,existingEntries):\n",
    "    #string or float parseInputFile\n",
    "    if bool(existingEntries)==False:\n",
    "        for col in dframe.columns:\n",
    "            print('Column is: ',col)\n",
    "            print dframe[col].head(5)\n",
    "            print('Should the column be treated like a category(Word) or something to calculate(Number)?')\n",
    "            stringFloat = raw_input('Please enter Word(w) or Number(n) ?')\n",
    "            if stringFloat == 'w':\n",
    "                existingEntries[col]=stringFloat\n",
    "                for row in dframe[col]:\n",
    "                    row = str(row)\n",
    "            elif stringFloat == 'n':\n",
    "                existingEntries[col]=stringFloat\n",
    "                for row in dframe[col]:\n",
    "                    row = float(row)\n",
    "            else:\n",
    "                print('sorry only word or number accepted.')\n",
    "                print('starting again from the beginning')\n",
    "                stringOrFloat(dframe,existingEntries)\n",
    "    else:\n",
    "        eeLength = len(existingEntries)\n",
    "        counter=0\n",
    "        for col in dframe.columns:\n",
    "            counter+=1\n",
    "            if counter>=eeLength:\n",
    "                print('Column is: ',col)\n",
    "                print dframe[col].head(5)\n",
    "                print('Should the column be treated like a category(Word) or something to calculate(Number)?')\n",
    "                stringFloat = raw_input('Please enter Word(w) or Number(n) ?')\n",
    "                if stringFloat == 'w':\n",
    "                    existingEntries[col]=stringFloat\n",
    "                    for row in dframe[col]:\n",
    "                        row = str(row)\n",
    "                elif stringFloat == 'n':\n",
    "                    existingEntries[col]=stringFloat\n",
    "                    for row in dframe[col]:\n",
    "                        row = float(row)\n",
    "                else:\n",
    "                    print('sorry only word or number accepted.')\n",
    "                    print('starting again from the beginning')\n",
    "                    stringOrFloat(dframe,existingEntries)\n",
    "            else:\n",
    "                continue\n",
    "    return "
   ]
  },
  {
   "cell_type": "code",
   "execution_count": 4,
   "metadata": {},
   "outputs": [
    {
     "data": {
      "text/html": [
       "<div>\n",
       "<table border=\"1\" class=\"dataframe\">\n",
       "  <thead>\n",
       "    <tr style=\"text-align: right;\">\n",
       "      <th></th>\n",
       "      <th>0</th>\n",
       "      <th>1</th>\n",
       "    </tr>\n",
       "  </thead>\n",
       "  <tbody>\n",
       "    <tr>\n",
       "      <th>0</th>\n",
       "      <td>1</td>\n",
       "      <td>4</td>\n",
       "    </tr>\n",
       "    <tr>\n",
       "      <th>1</th>\n",
       "      <td>2</td>\n",
       "      <td>NaN</td>\n",
       "    </tr>\n",
       "    <tr>\n",
       "      <th>2</th>\n",
       "      <td>3</td>\n",
       "      <td>6</td>\n",
       "    </tr>\n",
       "  </tbody>\n",
       "</table>\n",
       "</div>"
      ],
      "text/plain": [
       "   0    1\n",
       "0  1    4\n",
       "1  2  NaN\n",
       "2  3    6"
      ]
     },
     "execution_count": 4,
     "metadata": {},
     "output_type": "execute_result"
    }
   ],
   "source": [
    "import pandas as pd\n",
    "import numpy as np\n",
    "### TESTING ###\n",
    "testFrame = pd.DataFrame(['1','2','3'])\n",
    "testFrame[1]=(['4',np.nan,'6'])\n",
    "testFrame"
   ]
  },
  {
   "cell_type": "code",
   "execution_count": 7,
   "metadata": {},
   "outputs": [
    {
     "name": "stdout",
     "output_type": "stream",
     "text": [
      "set(['1', '3', '2'])\n",
      "set([nan, '4', '6'])\n"
     ]
    }
   ],
   "source": [
    "for col in testFrame.columns:\n",
    "    print (set(testFrame[col]))"
   ]
  },
  {
   "cell_type": "code",
   "execution_count": null,
   "metadata": {
    "collapsed": true
   },
   "outputs": [],
   "source": [
    "def convertAllNumtoFloat(dframe):\n",
    "    for col in dframe.columns:\n",
    "        try:\n",
    "            #print('converting column: ',col)\n",
    "            #dframe[col][0]=float(dframe[col][0])\n",
    "            for row in range(len(dframe[col])):\n",
    "                #print('row is:',row)\n",
    "                dframe[col][row]=float(dframe[col][row])\n",
    "                #print(dframe[col][row])\n",
    "        except:\n",
    "            pass\n",
    "    return dframe"
   ]
  },
  {
   "cell_type": "code",
   "execution_count": null,
   "metadata": {
    "collapsed": true
   },
   "outputs": [],
   "source": [
    "#removing the string features that were unconvertable\n",
    "#into binary features due to greater than 50 variables\n",
    "def removeStringFeatures(dframe):\n",
    "    print('initial columns length: ',len(dframe.columns))\n",
    "    StringFeatures,removedCols=[],[]\n",
    "    [StringFeatures.append(col) for col in dframe.columns if isinstance(dframe[col][0],str)==True]\n",
    "    for feature in StringFeatures:\n",
    "        removedCols.append(feature)\n",
    "        del dframe[feature]\n",
    "    print('removed columns: ',removedCols)\n",
    "    print('remaining columns length: %d')%(len(dframe.columns))\n",
    "    return dframe"
   ]
  },
  {
   "cell_type": "code",
   "execution_count": null,
   "metadata": {
    "collapsed": true
   },
   "outputs": [],
   "source": [
    "def combinations2(iterable, r):\n",
    "    # combinations('ABCD', 2) --> AB AC AD BC BD CD\n",
    "    # combinations(range(4), 3) --> 012 013 023 123\n",
    "    pool = tuple(iterable)\n",
    "    n = len(pool)\n",
    "    if r > n:\n",
    "        return\n",
    "    indices = range(r)\n",
    "    yield tuple(pool[i] for i in indices)\n",
    "    while True:\n",
    "        for i in reversed(range(r)):\n",
    "            if indices[i] != i + n - r:\n",
    "                break\n",
    "        else:\n",
    "            return\n",
    "        indices[i] += 1\n",
    "        for j in range(i+1, r):\n",
    "            indices[j] = indices[j-1] + 1\n",
    "        yield tuple(pool[i] for i in indices)"
   ]
  },
  {
   "cell_type": "code",
   "execution_count": null,
   "metadata": {
    "collapsed": true
   },
   "outputs": [],
   "source": [
    "existingColNames = [\"loan_amnt\", \"funded_amnt\", \"funded_amnt_inv\", \"term\", \"_rate\", \"installment\", \"grade\", \"sub_grade\", \"emp_length\", \"home_ownership\", \"is_inc_v\", \"loan_status\", \"purpose\", \"addr_state\", \"dti\", \"revol_bal\", \"revol_util\", \"initial_list_status\", \"out_prncp\", \"out_prncp_inv\", \"total_pymnt\", \"total_pymnt_inv\", \"total_rec_prncp\", \"total_rec_\", \"total_rec_late_fee\", \"recoveries\", \"collection_recovery_fee\", \"last_pymnt_amnt\", \"not_compliant\", \"status\", \"emp_length_num\", \"grade_num\", \"sub_grade_num\", \"short_emp\", \"last_delinq_none\", \"last_record_none\", \"last_major_derog_none\", \"safe_loans\"]\n",
    "len(existingColNames)\n",
    "permutations = itertools.combinations(existingColNames,38)\n",
    "allPermutations=[]\n",
    "for featureSet in permutations:\n",
    "    print(featureSet)\n",
    "    allPermutations.append([featureSet])"
   ]
  },
  {
   "cell_type": "code",
   "execution_count": null,
   "metadata": {
    "collapsed": true
   },
   "outputs": [],
   "source": [
    "#building a recursive algorithm for Dtree classifier on feature pertubation\n",
    "import operator\n",
    "import itertools\n",
    "from tqdm import tqdm\n",
    "from operator import itemgetter\n",
    "\n",
    "def buildTheTree(trainData,validationData,target,depth):\n",
    "    trainDataFrame = trainData.to_dataframe()\n",
    "    allFeatures=[]\n",
    "    for feature in trainDataFrame.columns:\n",
    "        allFeatures.append(feature)\n",
    "    allFeatures.remove(target)\n",
    "    historicalAccuracies=[]\n",
    "    #permutations = itertools.permutations(allFeatures,10)\n",
    "    #combinations = itertools.combinations(allFeatures,10)\n",
    "\n",
    "    for feature in allFeatures:\n",
    "        currentFeature=[]\n",
    "        currentFeature.append(feature)\n",
    "        print('current feature list is: ',currentFeature)\n",
    "        dtreeIter = graphlab.decision_tree_classifier.create(trainData,validation_set=None,target=target,features=currentFeature,max_depth=depth)\n",
    "        sumAcc=0\n",
    "        for valSets in validationData:\n",
    "            sumAcc += dtreeIter.evaluate(valSets)['accuracy']\n",
    "        avgAccuracy=(sumAcc/(len(validationData)))\n",
    "        historicalAccuracies.append([avgAccuracy,feature])\n",
    "\n",
    "    sortedA = sorted(historicalAccuracies,key=itemgetter(0),reverse=True)\n",
    "    print('Sorted ',sortedA)\n",
    "    sortedList=[]\n",
    "    featureComboAcc=[]\n",
    "    for k in range(len(sortedA)):\n",
    "        sortedList.append(sortedA[k][1])\n",
    "        dtreeIter = graphlab.decision_tree_classifier.create(trainData,validation_set=None,target=target,features=sortedList,max_depth=depth)\n",
    "        sumAcc=0\n",
    "        for valSets in validationData:\n",
    "            sumAcc += dtreeIter.evaluate(valSets)['accuracy']\n",
    "        print('Sum Accuracy: ',sumAcc)\n",
    "        avgAccuracy=(sumAcc/(len(validationData)))\n",
    "        featureComboAcc.append([avgAccuracy,sortedList])\n",
    "        if avgAccuracy>featureComboAcc[k-1][0]:\n",
    "            continue\n",
    "        else:\n",
    "            break\n",
    "\n",
    "    return dtreeIter,historicalAccuracies,featureComboAcc\n",
    "target='safe_loans'\n",
    "valSets = [val1,val2,val3,val4]\n",
    "dtreeIter,historicalAccuracies,featureComboAcc=buildTheTree(train1,valSets,target,5)"
   ]
  },
  {
   "cell_type": "code",
   "execution_count": null,
   "metadata": {
    "collapsed": true
   },
   "outputs": [],
   "source": [
    "#\n",
    "import itertools\n",
    "permList=['one','two','three']\n",
    "abc = itertools.combinations(permList,2)\n",
    "tmpList = []\n",
    "for a in abc:\n",
    "    tmpList.append([a])\n",
    "tmpList\n",
    "tmpagain=[]\n",
    "xFeatures = tmpList[1][0]\n",
    "[tmpagain.append(x) for x in xFeatures]\n",
    "tmpagain\n",
    "tmpSframe = graphlab.SFrame(['one','two','three'])\n",
    "tmpDF = tmpSframe.to_dataframe()\n",
    "print tmpDF\n",
    "tmpDF.columns"
   ]
  },
  {
   "cell_type": "code",
   "execution_count": null,
   "metadata": {
    "collapsed": true
   },
   "outputs": [],
   "source": [
    "import operator\n",
    "tmpDict = {'0.3':'f3','0.1':'f1','0.2':'f2'}\n",
    "tmpList = \n",
    "print tmpDict\n",
    "#sorted by key(0) instead of value(1)\n",
    "sorted_x = sorted(tmpDict.items(), key=operator.itemgetter(0))\n",
    "print(sorted_x)\n",
    "sumFeatures=[]\n",
    "for key,value in sorted_x:\n",
    "    sumFeatures.append(value)\n",
    "    if len(sumFeatures)>=2:\n",
    "        break\n",
    "print(sumFeatures)"
   ]
  },
  {
   "cell_type": "code",
   "execution_count": null,
   "metadata": {
    "collapsed": true
   },
   "outputs": [],
   "source": []
  }
 ],
 "metadata": {
  "kernelspec": {
   "display_name": "Python 2",
   "language": "python",
   "name": "python2"
  },
  "language_info": {
   "codemirror_mode": {
    "name": "ipython",
    "version": 2
   },
   "file_extension": ".py",
   "mimetype": "text/x-python",
   "name": "python",
   "nbconvert_exporter": "python",
   "pygments_lexer": "ipython2",
   "version": "2.7.13"
  }
 },
 "nbformat": 4,
 "nbformat_minor": 2
}
